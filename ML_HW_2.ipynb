{
 "cells": [
  {
   "cell_type": "markdown",
   "id": "32a83365",
   "metadata": {},
   "source": [
    "# Задача прогнозирования инсульта. Обучение полносвязной (неглубокой) нейронной сети."
   ]
  },
  {
   "cell_type": "code",
   "execution_count": 1,
   "id": "4bae0f2e",
   "metadata": {},
   "outputs": [],
   "source": [
    "import numpy as np              # Массивы (матрицы, векторы, линейная алгебра)\n",
    "import matplotlib.pyplot as plt # Научная графика\n",
    "%matplotlib inline \n",
    "    # Говорим jupyter'у, чтобы весь графический вывод был в браузере, а не в отдельном окне\n",
    "    \n",
    "import pandas as pd             # Таблицы и временные ряды (dataframe, series)\n",
    "import sklearn                  # Алгоритмы машинного обучения"
   ]
  },
  {
   "cell_type": "markdown",
   "id": "d6d6c291",
   "metadata": {},
   "source": [
    "### Загрузка датасета и подготовка данных "
   ]
  },
  {
   "cell_type": "markdown",
   "id": "66c87f9f",
   "metadata": {},
   "source": [
    "Подготовка данных как в задании ML_HW_1.\n",
    "\n",
    "1. Заполнение пропущенных значений и обработка выбросов.\n",
    "2. Замена бинарных признаков 'gender', 'ever_married' и 'Residence_type' на числовые.\n",
    "3. К категориальным (небинарным) признакам 'work_type' 'smoking_status' применим метод бинаризации.\n",
    "4. Нормализация количественных признаков 'age', 'avg_glucose_level','bmi'"
   ]
  },
  {
   "cell_type": "code",
   "execution_count": 2,
   "id": "d5a76cb3",
   "metadata": {},
   "outputs": [
    {
     "data": {
      "text/html": [
       "<div>\n",
       "<style scoped>\n",
       "    .dataframe tbody tr th:only-of-type {\n",
       "        vertical-align: middle;\n",
       "    }\n",
       "\n",
       "    .dataframe tbody tr th {\n",
       "        vertical-align: top;\n",
       "    }\n",
       "\n",
       "    .dataframe thead th {\n",
       "        text-align: right;\n",
       "    }\n",
       "</style>\n",
       "<table border=\"1\" class=\"dataframe\">\n",
       "  <thead>\n",
       "    <tr style=\"text-align: right;\">\n",
       "      <th></th>\n",
       "      <th>gender</th>\n",
       "      <th>hypertension</th>\n",
       "      <th>heart_disease</th>\n",
       "      <th>ever_married</th>\n",
       "      <th>Residence_type</th>\n",
       "      <th>stroke</th>\n",
       "      <th>work_type_Govt_job</th>\n",
       "      <th>work_type_Never_worked</th>\n",
       "      <th>work_type_Private</th>\n",
       "      <th>work_type_Self-employed</th>\n",
       "      <th>work_type_children</th>\n",
       "      <th>smoking_status_Unknown</th>\n",
       "      <th>smoking_status_formerly smoked</th>\n",
       "      <th>smoking_status_never smoked</th>\n",
       "      <th>smoking_status_smokes</th>\n",
       "      <th>age</th>\n",
       "      <th>avg_glucose_level</th>\n",
       "      <th>bmi</th>\n",
       "    </tr>\n",
       "  </thead>\n",
       "  <tbody>\n",
       "    <tr>\n",
       "      <th>0</th>\n",
       "      <td>0</td>\n",
       "      <td>0</td>\n",
       "      <td>1</td>\n",
       "      <td>1</td>\n",
       "      <td>0</td>\n",
       "      <td>1</td>\n",
       "      <td>0</td>\n",
       "      <td>0</td>\n",
       "      <td>1</td>\n",
       "      <td>0</td>\n",
       "      <td>0</td>\n",
       "      <td>0</td>\n",
       "      <td>1</td>\n",
       "      <td>0</td>\n",
       "      <td>0</td>\n",
       "      <td>1.051035</td>\n",
       "      <td>2.705684</td>\n",
       "      <td>1.004831</td>\n",
       "    </tr>\n",
       "    <tr>\n",
       "      <th>1</th>\n",
       "      <td>1</td>\n",
       "      <td>0</td>\n",
       "      <td>0</td>\n",
       "      <td>1</td>\n",
       "      <td>1</td>\n",
       "      <td>1</td>\n",
       "      <td>0</td>\n",
       "      <td>0</td>\n",
       "      <td>0</td>\n",
       "      <td>1</td>\n",
       "      <td>0</td>\n",
       "      <td>0</td>\n",
       "      <td>0</td>\n",
       "      <td>1</td>\n",
       "      <td>0</td>\n",
       "      <td>0.785616</td>\n",
       "      <td>2.120938</td>\n",
       "      <td>-0.098920</td>\n",
       "    </tr>\n",
       "    <tr>\n",
       "      <th>2</th>\n",
       "      <td>0</td>\n",
       "      <td>0</td>\n",
       "      <td>1</td>\n",
       "      <td>1</td>\n",
       "      <td>1</td>\n",
       "      <td>1</td>\n",
       "      <td>0</td>\n",
       "      <td>0</td>\n",
       "      <td>1</td>\n",
       "      <td>0</td>\n",
       "      <td>0</td>\n",
       "      <td>0</td>\n",
       "      <td>0</td>\n",
       "      <td>1</td>\n",
       "      <td>0</td>\n",
       "      <td>1.626110</td>\n",
       "      <td>-0.005391</td>\n",
       "      <td>0.472433</td>\n",
       "    </tr>\n",
       "    <tr>\n",
       "      <th>3</th>\n",
       "      <td>1</td>\n",
       "      <td>0</td>\n",
       "      <td>0</td>\n",
       "      <td>1</td>\n",
       "      <td>0</td>\n",
       "      <td>1</td>\n",
       "      <td>0</td>\n",
       "      <td>0</td>\n",
       "      <td>1</td>\n",
       "      <td>0</td>\n",
       "      <td>0</td>\n",
       "      <td>0</td>\n",
       "      <td>0</td>\n",
       "      <td>0</td>\n",
       "      <td>1</td>\n",
       "      <td>0.254778</td>\n",
       "      <td>1.436820</td>\n",
       "      <td>0.719154</td>\n",
       "    </tr>\n",
       "    <tr>\n",
       "      <th>4</th>\n",
       "      <td>1</td>\n",
       "      <td>1</td>\n",
       "      <td>0</td>\n",
       "      <td>1</td>\n",
       "      <td>1</td>\n",
       "      <td>1</td>\n",
       "      <td>0</td>\n",
       "      <td>0</td>\n",
       "      <td>0</td>\n",
       "      <td>1</td>\n",
       "      <td>0</td>\n",
       "      <td>0</td>\n",
       "      <td>0</td>\n",
       "      <td>1</td>\n",
       "      <td>0</td>\n",
       "      <td>1.581873</td>\n",
       "      <td>1.500639</td>\n",
       "      <td>-0.631318</td>\n",
       "    </tr>\n",
       "    <tr>\n",
       "      <th>...</th>\n",
       "      <td>...</td>\n",
       "      <td>...</td>\n",
       "      <td>...</td>\n",
       "      <td>...</td>\n",
       "      <td>...</td>\n",
       "      <td>...</td>\n",
       "      <td>...</td>\n",
       "      <td>...</td>\n",
       "      <td>...</td>\n",
       "      <td>...</td>\n",
       "      <td>...</td>\n",
       "      <td>...</td>\n",
       "      <td>...</td>\n",
       "      <td>...</td>\n",
       "      <td>...</td>\n",
       "      <td>...</td>\n",
       "      <td>...</td>\n",
       "      <td>...</td>\n",
       "    </tr>\n",
       "    <tr>\n",
       "      <th>5105</th>\n",
       "      <td>1</td>\n",
       "      <td>1</td>\n",
       "      <td>0</td>\n",
       "      <td>1</td>\n",
       "      <td>0</td>\n",
       "      <td>0</td>\n",
       "      <td>0</td>\n",
       "      <td>0</td>\n",
       "      <td>1</td>\n",
       "      <td>0</td>\n",
       "      <td>0</td>\n",
       "      <td>0</td>\n",
       "      <td>0</td>\n",
       "      <td>1</td>\n",
       "      <td>0</td>\n",
       "      <td>1.626110</td>\n",
       "      <td>-0.494961</td>\n",
       "      <td>-0.098920</td>\n",
       "    </tr>\n",
       "    <tr>\n",
       "      <th>5106</th>\n",
       "      <td>1</td>\n",
       "      <td>0</td>\n",
       "      <td>0</td>\n",
       "      <td>1</td>\n",
       "      <td>0</td>\n",
       "      <td>0</td>\n",
       "      <td>0</td>\n",
       "      <td>0</td>\n",
       "      <td>0</td>\n",
       "      <td>1</td>\n",
       "      <td>0</td>\n",
       "      <td>0</td>\n",
       "      <td>0</td>\n",
       "      <td>1</td>\n",
       "      <td>0</td>\n",
       "      <td>1.670346</td>\n",
       "      <td>0.420361</td>\n",
       "      <td>1.446332</td>\n",
       "    </tr>\n",
       "    <tr>\n",
       "      <th>5107</th>\n",
       "      <td>1</td>\n",
       "      <td>0</td>\n",
       "      <td>0</td>\n",
       "      <td>1</td>\n",
       "      <td>1</td>\n",
       "      <td>0</td>\n",
       "      <td>0</td>\n",
       "      <td>0</td>\n",
       "      <td>0</td>\n",
       "      <td>1</td>\n",
       "      <td>0</td>\n",
       "      <td>0</td>\n",
       "      <td>0</td>\n",
       "      <td>1</td>\n",
       "      <td>0</td>\n",
       "      <td>-0.364533</td>\n",
       "      <td>-0.511744</td>\n",
       "      <td>0.225713</td>\n",
       "    </tr>\n",
       "    <tr>\n",
       "      <th>5108</th>\n",
       "      <td>0</td>\n",
       "      <td>0</td>\n",
       "      <td>0</td>\n",
       "      <td>1</td>\n",
       "      <td>1</td>\n",
       "      <td>0</td>\n",
       "      <td>0</td>\n",
       "      <td>0</td>\n",
       "      <td>1</td>\n",
       "      <td>0</td>\n",
       "      <td>0</td>\n",
       "      <td>0</td>\n",
       "      <td>1</td>\n",
       "      <td>0</td>\n",
       "      <td>0</td>\n",
       "      <td>0.343251</td>\n",
       "      <td>1.327733</td>\n",
       "      <td>-0.423553</td>\n",
       "    </tr>\n",
       "    <tr>\n",
       "      <th>5109</th>\n",
       "      <td>1</td>\n",
       "      <td>0</td>\n",
       "      <td>0</td>\n",
       "      <td>1</td>\n",
       "      <td>0</td>\n",
       "      <td>0</td>\n",
       "      <td>1</td>\n",
       "      <td>0</td>\n",
       "      <td>0</td>\n",
       "      <td>0</td>\n",
       "      <td>0</td>\n",
       "      <td>1</td>\n",
       "      <td>0</td>\n",
       "      <td>0</td>\n",
       "      <td>0</td>\n",
       "      <td>0.033596</td>\n",
       "      <td>-0.461175</td>\n",
       "      <td>-0.345641</td>\n",
       "    </tr>\n",
       "  </tbody>\n",
       "</table>\n",
       "<p>5108 rows × 18 columns</p>\n",
       "</div>"
      ],
      "text/plain": [
       "     gender  hypertension  heart_disease ever_married Residence_type  stroke  \\\n",
       "0         0             0              1            1              0       1   \n",
       "1         1             0              0            1              1       1   \n",
       "2         0             0              1            1              1       1   \n",
       "3         1             0              0            1              0       1   \n",
       "4         1             1              0            1              1       1   \n",
       "...     ...           ...            ...          ...            ...     ...   \n",
       "5105      1             1              0            1              0       0   \n",
       "5106      1             0              0            1              0       0   \n",
       "5107      1             0              0            1              1       0   \n",
       "5108      0             0              0            1              1       0   \n",
       "5109      1             0              0            1              0       0   \n",
       "\n",
       "      work_type_Govt_job  work_type_Never_worked  work_type_Private  \\\n",
       "0                      0                       0                  1   \n",
       "1                      0                       0                  0   \n",
       "2                      0                       0                  1   \n",
       "3                      0                       0                  1   \n",
       "4                      0                       0                  0   \n",
       "...                  ...                     ...                ...   \n",
       "5105                   0                       0                  1   \n",
       "5106                   0                       0                  0   \n",
       "5107                   0                       0                  0   \n",
       "5108                   0                       0                  1   \n",
       "5109                   1                       0                  0   \n",
       "\n",
       "      work_type_Self-employed  work_type_children  smoking_status_Unknown  \\\n",
       "0                           0                   0                       0   \n",
       "1                           1                   0                       0   \n",
       "2                           0                   0                       0   \n",
       "3                           0                   0                       0   \n",
       "4                           1                   0                       0   \n",
       "...                       ...                 ...                     ...   \n",
       "5105                        0                   0                       0   \n",
       "5106                        1                   0                       0   \n",
       "5107                        1                   0                       0   \n",
       "5108                        0                   0                       0   \n",
       "5109                        0                   0                       1   \n",
       "\n",
       "      smoking_status_formerly smoked  smoking_status_never smoked  \\\n",
       "0                                  1                            0   \n",
       "1                                  0                            1   \n",
       "2                                  0                            1   \n",
       "3                                  0                            0   \n",
       "4                                  0                            1   \n",
       "...                              ...                          ...   \n",
       "5105                               0                            1   \n",
       "5106                               0                            1   \n",
       "5107                               0                            1   \n",
       "5108                               1                            0   \n",
       "5109                               0                            0   \n",
       "\n",
       "      smoking_status_smokes       age  avg_glucose_level       bmi  \n",
       "0                         0  1.051035           2.705684  1.004831  \n",
       "1                         0  0.785616           2.120938 -0.098920  \n",
       "2                         0  1.626110          -0.005391  0.472433  \n",
       "3                         1  0.254778           1.436820  0.719154  \n",
       "4                         0  1.581873           1.500639 -0.631318  \n",
       "...                     ...       ...                ...       ...  \n",
       "5105                      0  1.626110          -0.494961 -0.098920  \n",
       "5106                      0  1.670346           0.420361  1.446332  \n",
       "5107                      0 -0.364533          -0.511744  0.225713  \n",
       "5108                      0  0.343251           1.327733 -0.423553  \n",
       "5109                      0  0.033596          -0.461175 -0.345641  \n",
       "\n",
       "[5108 rows x 18 columns]"
      ]
     },
     "execution_count": 2,
     "metadata": {},
     "output_type": "execute_result"
    }
   ],
   "source": [
    "data = pd.read_csv('healthcare-dataset-stroke-data.csv', sep=',', header=0,  engine='python')\n",
    "\n",
    "data=data.drop('id', axis=1)\n",
    "data.fillna(data.median(axis = 0), axis=0 , inplace=True)\n",
    "data = data.drop(data[(data['age'] <=30) & (data['stroke'] ==1)].index)\n",
    "data.loc[data['gender']=='Other','gender']='Female' \n",
    "\n",
    "data.loc[data['gender'] == 'Female', 'gender'] = 1\n",
    "data.loc[data['gender'] == 'Male', 'gender'] = 0\n",
    "data.loc[data['ever_married'] == 'Yes', 'ever_married'] = 1\n",
    "data.loc[data['ever_married'] == 'No', 'ever_married'] = 0\n",
    "data.loc[data['Residence_type'] == 'Rural', 'Residence_type'] = 1\n",
    "data.loc[data['Residence_type'] == 'Urban', 'Residence_type'] = 0\n",
    "\n",
    "data = pd.get_dummies(data, columns=['work_type', 'smoking_status'])\n",
    "data_numerical=data[['age', 'avg_glucose_level','bmi']]\n",
    "data_numerical = (data_numerical - data_numerical.mean(axis = 0))/data_numerical.std(axis = 0)\n",
    "\n",
    "data=data.drop(['age', 'avg_glucose_level','bmi'], axis=1)\n",
    "data=pd.concat([data, data_numerical], axis=1)\n",
    "\n",
    "data"
   ]
  },
  {
   "cell_type": "markdown",
   "id": "67def917",
   "metadata": {},
   "source": [
    "### Разбиваем данные на обучающую и тестовую выборки"
   ]
  },
  {
   "cell_type": "code",
   "execution_count": 3,
   "id": "9be1e9be",
   "metadata": {},
   "outputs": [],
   "source": [
    "y = data['stroke']\n",
    "X = data.drop(['stroke'], axis=1)"
   ]
  },
  {
   "cell_type": "markdown",
   "id": "4101d305",
   "metadata": {},
   "source": [
    "Разобьем данные на обучающую и тестовую выборки - 70% и 30%"
   ]
  },
  {
   "cell_type": "code",
   "execution_count": 4,
   "id": "4cc4db24",
   "metadata": {
    "scrolled": true
   },
   "outputs": [
    {
     "data": {
      "text/plain": [
       "(1533, 3575)"
      ]
     },
     "execution_count": 4,
     "metadata": {},
     "output_type": "execute_result"
    }
   ],
   "source": [
    "from sklearn.model_selection import train_test_split\n",
    "X_train, X_test, y_train, y_test = train_test_split(X, y, test_size = 0.3, random_state = 40)\n",
    "\n",
    "N_test, _ = X_test.shape\n",
    "N_train, _ = X_train.shape \n",
    "\n",
    "N_test, N_train"
   ]
  },
  {
   "cell_type": "markdown",
   "id": "f06605b7",
   "metadata": {},
   "source": [
    "### Обучаем классификатор"
   ]
  },
  {
   "cell_type": "code",
   "execution_count": 5,
   "id": "93134d74",
   "metadata": {},
   "outputs": [],
   "source": [
    "from sklearn.neural_network import MLPClassifier\n",
    "\n",
    "mlp_model = MLPClassifier(hidden_layer_sizes = (100,),\n",
    "                          solver = 'lbfgs', \n",
    "                          activation = 'logistic',\n",
    "                          random_state = 40,\n",
    "                          max_iter=3000)\n"
   ]
  },
  {
   "cell_type": "code",
   "execution_count": 6,
   "id": "dc3c382f",
   "metadata": {},
   "outputs": [
    {
     "name": "stdout",
     "output_type": "stream",
     "text": [
      "Wall time: 1.95 s\n"
     ]
    },
    {
     "data": {
      "text/plain": [
       "MLPClassifier(activation='logistic', max_iter=3000, random_state=40,\n",
       "              solver='lbfgs')"
      ]
     },
     "execution_count": 6,
     "metadata": {},
     "output_type": "execute_result"
    }
   ],
   "source": [
    "%%time\n",
    "mlp_model.fit(X_train, y_train)"
   ]
  },
  {
   "cell_type": "markdown",
   "id": "e2bbef6b",
   "metadata": {},
   "source": [
    "### Проверяем качество классификатора"
   ]
  },
  {
   "cell_type": "code",
   "execution_count": 7,
   "id": "c8f3733c",
   "metadata": {},
   "outputs": [
    {
     "data": {
      "text/plain": [
       "1.0"
      ]
     },
     "execution_count": 7,
     "metadata": {},
     "output_type": "execute_result"
    }
   ],
   "source": [
    "y_train_pred = mlp_model.predict(X_train)\n",
    "y_test_pred = mlp_model.predict(X_test)\n",
    "\n",
    "from sklearn.metrics import accuracy_score\n",
    "\n",
    "accuracy_score(y_train, y_train_pred)"
   ]
  },
  {
   "cell_type": "code",
   "execution_count": 8,
   "id": "e73fd700",
   "metadata": {},
   "outputs": [
    {
     "data": {
      "text/plain": [
       "0.9145466405740378"
      ]
     },
     "execution_count": 8,
     "metadata": {},
     "output_type": "execute_result"
    }
   ],
   "source": [
    "accuracy_score(y_test, y_test_pred)"
   ]
  },
  {
   "cell_type": "markdown",
   "id": "d93c205f",
   "metadata": {},
   "source": [
    "### Подбор гиперпараметров"
   ]
  },
  {
   "cell_type": "code",
   "execution_count": 9,
   "id": "5dba626f",
   "metadata": {},
   "outputs": [],
   "source": [
    "alpha_arr = np.logspace(-3, 2, 20)\n",
    "test_err = []\n",
    "train_err = []\n",
    "\n",
    "for alpha in alpha_arr:\n",
    "    mlp_model = MLPClassifier(alpha = alpha, hidden_layer_sizes = (100,), \n",
    "                              solver = 'lbfgs', \n",
    "                              activation = 'logistic', \n",
    "                              max_iter=3000, \n",
    "                              random_state = 40)\n",
    "    mlp_model.fit(X_train, y_train)\n",
    "\n",
    "    y_train_pred = mlp_model.predict(X_train)\n",
    "    y_test_pred = mlp_model.predict(X_test)\n",
    "    \n",
    "    train_err.append(np.mean(y_train != y_train_pred))\n",
    "    test_err.append(np.mean(y_test != y_test_pred))"
   ]
  },
  {
   "cell_type": "code",
   "execution_count": 10,
   "id": "aa0d7167",
   "metadata": {
    "scrolled": false
   },
   "outputs": [
    {
     "data": {
      "text/plain": [
       "<matplotlib.legend.Legend at 0x1e3a8437940>"
      ]
     },
     "execution_count": 10,
     "metadata": {},
     "output_type": "execute_result"
    },
    {
     "data": {
      "image/png": "[encoded data removed]",
      "text/plain": [
       "<Figure size 432x288 with 1 Axes>"
      ]
     },
     "metadata": {
      "needs_background": "light"
     },
     "output_type": "display_data"
    }
   ],
   "source": [
    "plt.semilogx(alpha_arr, train_err, 'b-o', label = 'train')\n",
    "plt.semilogx(alpha_arr, test_err, 'r-o', label = 'test')\n",
    "plt.xlim([np.min(alpha_arr), np.max(alpha_arr)])\n",
    "plt.title('Error vs. alpha')\n",
    "plt.xlabel('alpha')\n",
    "plt.ylabel('error')\n",
    "plt.legend()"
   ]
  },
  {
   "cell_type": "markdown",
   "id": "538189e6",
   "metadata": {},
   "source": [
    "При alpha < ~0.78 наблюдается переобучение - ошибка на тестовой выборке значительно больше ошибки на тренировочной."
   ]
  },
  {
   "cell_type": "code",
   "execution_count": 11,
   "id": "39c9b4b7",
   "metadata": {},
   "outputs": [
    {
     "name": "stdout",
     "output_type": "stream",
     "text": [
      "Минимальное значение ошибки: 0.0 0.045662100456621\n"
     ]
    }
   ],
   "source": [
    "min_train_err = np.min(train_err)\n",
    "min_test_err = np.min(test_err)\n",
    "print('Минимальное значение ошибки:',min_train_err, min_test_err)"
   ]
  },
  {
   "cell_type": "code",
   "execution_count": 12,
   "id": "b0f6e152",
   "metadata": {
    "scrolled": true
   },
   "outputs": [
    {
     "name": "stdout",
     "output_type": "stream",
     "text": [
      "Оптимальное значение alpha: 0.7847599703514607\n"
     ]
    }
   ],
   "source": [
    "alpha_opt = alpha_arr[test_err == min_test_err][0]\n",
    "print('Оптимальное значение alpha:',alpha_opt)"
   ]
  },
  {
   "cell_type": "markdown",
   "id": "c09ed537",
   "metadata": {},
   "source": [
    "### Подбор количества нейронов"
   ]
  },
  {
   "cell_type": "markdown",
   "id": "49a09e3c",
   "metadata": {},
   "source": [
    "Подберем оптимальное количество нейронов в нейронной сети при оптимальном значении alpha"
   ]
  },
  {
   "cell_type": "code",
   "execution_count": 13,
   "id": "d948685f",
   "metadata": {},
   "outputs": [],
   "source": [
    "neuron_arr = (np.linspace(1, 300, 80)).astype(int)\n",
    "test_err = []\n",
    "train_err = []\n",
    "\n",
    "for neuron in neuron_arr:\n",
    "    mlp_model = MLPClassifier(alpha = alpha_opt, hidden_layer_sizes = (neuron,), \n",
    "                              solver = 'lbfgs', \n",
    "                              activation = 'logistic', \n",
    "                              max_iter=1000, \n",
    "                              random_state = 40)\n",
    "    mlp_model.fit(X_train, y_train)\n",
    "\n",
    "    y_train_pred = mlp_model.predict(X_train)\n",
    "    y_test_pred = mlp_model.predict(X_test)\n",
    "    \n",
    "    train_err.append(np.mean(y_train != y_train_pred))\n",
    "    test_err.append(np.mean(y_test != y_test_pred))"
   ]
  },
  {
   "cell_type": "code",
   "execution_count": 14,
   "id": "218ee303",
   "metadata": {},
   "outputs": [
    {
     "data": {
      "text/plain": [
       "<matplotlib.legend.Legend at 0x1e3a9cac640>"
      ]
     },
     "execution_count": 14,
     "metadata": {},
     "output_type": "execute_result"
    },
    {
     "data": {
      "image/png": "[encoded data removed]",
      "text/plain": [
       "<Figure size 432x288 with 1 Axes>"
      ]
     },
     "metadata": {
      "needs_background": "light"
     },
     "output_type": "display_data"
    }
   ],
   "source": [
    "plt.semilogx(neuron_arr, train_err, 'b-o', label = 'train')\n",
    "plt.semilogx(neuron_arr, test_err, 'r-o', label = 'test')\n",
    "plt.xlim([np.min(neuron_arr), np.max(neuron_arr)])\n",
    "plt.title('Error vs. neuron')\n",
    "plt.xlabel('neuron')\n",
    "plt.ylabel('error')\n",
    "plt.legend()"
   ]
  },
  {
   "cell_type": "code",
   "execution_count": 15,
   "id": "59958477",
   "metadata": {},
   "outputs": [
    {
     "name": "stdout",
     "output_type": "stream",
     "text": [
      "Минимальное значение ошибки: 0.04867132867132867 0.04435746901500326\n"
     ]
    }
   ],
   "source": [
    "min_train_err = np.min(train_err)\n",
    "min_test_err = np.min(test_err)\n",
    "print('Минимальное значение ошибки:',min_train_err, min_test_err)"
   ]
  },
  {
   "cell_type": "code",
   "execution_count": 16,
   "id": "589828ea",
   "metadata": {
    "scrolled": true
   },
   "outputs": [
    {
     "name": "stdout",
     "output_type": "stream",
     "text": [
      "Оптимальное количество нейронов: 4\n"
     ]
    }
   ],
   "source": [
    "neuron_opt = neuron_arr[test_err == min_test_err][0]\n",
    "print('Оптимальное количество нейронов:',neuron_opt)"
   ]
  },
  {
   "cell_type": "markdown",
   "id": "9cc9d254",
   "metadata": {},
   "source": [
    "### Классификатор при найденных параметрах (alpha и кол-во нейронов)"
   ]
  },
  {
   "cell_type": "code",
   "execution_count": 17,
   "id": "e8748f8c",
   "metadata": {},
   "outputs": [
    {
     "name": "stdout",
     "output_type": "stream",
     "text": [
      "Итоговая точность:\n",
      "0.9504895104895105\n",
      "0.9556425309849967\n"
     ]
    }
   ],
   "source": [
    "mlp_model = MLPClassifier(alpha = alpha_opt, hidden_layer_sizes = (neuron_opt,),\n",
    "                          solver = 'lbfgs', activation = 'logistic', random_state = 40)\n",
    "mlp_model.fit(X_train, y_train)\n",
    "\n",
    "y_train_pred = mlp_model.predict(X_train)\n",
    "y_test_pred = mlp_model.predict(X_test)\n",
    "print('Итоговая точность:')\n",
    "print(accuracy_score(y_train, y_train_pred))\n",
    "print(accuracy_score(y_test, y_test_pred))"
   ]
  },
  {
   "cell_type": "markdown",
   "id": "f6f13e73",
   "metadata": {},
   "source": [
    "### Матрица рассогласования:"
   ]
  },
  {
   "cell_type": "code",
   "execution_count": 18,
   "id": "8e272cd5",
   "metadata": {},
   "outputs": [
    {
     "data": {
      "text/plain": [
       "<sklearn.metrics._plot.confusion_matrix.ConfusionMatrixDisplay at 0x1e3a9c6bdc0>"
      ]
     },
     "execution_count": 18,
     "metadata": {},
     "output_type": "execute_result"
    },
    {
     "data": {
      "image/png": "[encoded data removed]",
      "text/plain": [
       "<Figure size 432x288 with 2 Axes>"
      ]
     },
     "metadata": {
      "needs_background": "light"
     },
     "output_type": "display_data"
    }
   ],
   "source": [
    "from sklearn.metrics import plot_confusion_matrix\n",
    "plot_confusion_matrix(mlp_model, X_test, y_test) "
   ]
  },
  {
   "cell_type": "markdown",
   "id": "1c36b67b",
   "metadata": {},
   "source": [
    "### Выводы\n",
    "1. Мы построили полносвязную (неглубокую) нейронную сеть с 1 скрытым слоем.\n",
    "2. При подборе оптимальных параметров удалось устранить переобучение и повысить точность на тестовой выборке на ~4%.\n"
   ]
  }
 ],
 "metadata": {
  "kernelspec": {
   "display_name": "Python 3",
   "language": "python",
   "name": "python3"
  },
  "language_info": {
   "codemirror_mode": {
    "name": "ipython",
    "version": 3
   },
   "file_extension": ".py",
   "mimetype": "text/x-python",
   "name": "python",
   "nbconvert_exporter": "python",
   "pygments_lexer": "ipython3",
   "version": "3.8.8"
  }
 },
 "nbformat": 4,
 "nbformat_minor": 5
}
